{
  "nbformat": 4,
  "nbformat_minor": 0,
  "metadata": {
    "colab": {
      "provenance": []
    },
    "kernelspec": {
      "name": "python3",
      "display_name": "Python 3"
    },
    "language_info": {
      "name": "python"
    }
  },
  "cells": [
    {
      "cell_type": "code",
      "execution_count": null,
      "metadata": {
        "id": "08ngypr_whAU"
      },
      "outputs": [],
      "source": [
        "import re"
      ]
    },
    {
      "cell_type": "code",
      "source": [
        "text='''\n",
        "Number is 9991116666 but 40 people have already tried calling with (999)-333-7777\n",
        "'''\n",
        "matches = re.findall(\"\\d{10}|\\(\\d{3}\\)-\\d{3}-\\d{4}\", text)\n",
        "matches"
      ],
      "metadata": {
        "colab": {
          "base_uri": "https://localhost:8080/"
        },
        "id": "eOg2rh4uwkOh",
        "outputId": "faee6682-d133-4edd-bbac-2f9945f2e4e4"
      },
      "execution_count": null,
      "outputs": [
        {
          "output_type": "execute_result",
          "data": {
            "text/plain": [
              "['9991116666', '(999)-333-7777']"
            ]
          },
          "metadata": {},
          "execution_count": 3
        }
      ]
    },
    {
      "cell_type": "code",
      "source": [
        "text = 'cool_Dude12@gmail.com and yahoo.you@yahoo.com'\n",
        "pattern = '[a-zA-Z0-9_.]*@(?:gmail|yahoo).com'\n",
        "matches = re.findall(pattern, text)\n",
        "matches"
      ],
      "metadata": {
        "colab": {
          "base_uri": "https://localhost:8080/"
        },
        "id": "zgzxKMwByVwn",
        "outputId": "ea29bc54-b143-43fc-d1a8-728a5f949482"
      },
      "execution_count": null,
      "outputs": [
        {
          "output_type": "execute_result",
          "data": {
            "text/plain": [
              "['cool_Dude12@gmail.com', 'yahoo.you@yahoo.com']"
            ]
          },
          "metadata": {},
          "execution_count": 20
        }
      ]
    },
    {
      "cell_type": "code",
      "source": [
        "text = 'Can you replace the item x in order # 8bx6487'\n",
        "pattern = 'order[^\\d]*([a-z0-9]*)'\n",
        "matches = re.findall(pattern, text)\n",
        "matches"
      ],
      "metadata": {
        "colab": {
          "base_uri": "https://localhost:8080/"
        },
        "id": "8m6Q-Skn0Adg",
        "outputId": "ae646570-c4f5-4ca7-ebf7-107344c0104d"
      },
      "execution_count": null,
      "outputs": [
        {
          "output_type": "execute_result",
          "data": {
            "text/plain": [
              "['8bx6487']"
            ]
          },
          "metadata": {},
          "execution_count": 22
        }
      ]
    },
    {
      "cell_type": "code",
      "source": [
        "text = 'Someone\\'s age is 95 years old'\n",
        "pattern = 'age[^\\d]+[\\d]+'\n",
        "matches = re.findall(pattern, text)\n",
        "matches"
      ],
      "metadata": {
        "colab": {
          "base_uri": "https://localhost:8080/"
        },
        "id": "Tx_9LZlb43cA",
        "outputId": "c539ea20-d808-4fe7-cfb6-bdb6899f1bab"
      },
      "execution_count": null,
      "outputs": [
        {
          "output_type": "execute_result",
          "data": {
            "text/plain": [
              "['age is 95']"
            ]
          },
          "metadata": {},
          "execution_count": 26
        }
      ]
    },
    {
      "cell_type": "code",
      "source": [],
      "metadata": {
        "id": "vtR6eESf9U24"
      },
      "execution_count": null,
      "outputs": []
    }
  ]
}